{
 "cells": [
  {
   "cell_type": "markdown",
   "metadata": {},
   "source": [
    "# Predicting House Prices\n",
    "As my first dive into modeling, my goal for this notebook is to predict house prices based on a Kaggle dataset of house attributes. This analysis will employ a few different models and will also serve as a discussion on strengths and weakness of the models used."
   ]
  },
  {
   "cell_type": "code",
   "execution_count": 1,
   "metadata": {},
   "outputs": [],
   "source": [
    "from datetime import datetime\n",
    "import collections\n",
    "\n",
    "import pandas as pd\n",
    "import numpy as np\n",
    "import matplotlib.pyplot as plt\n",
    "\n",
    "from sklearn.preprocessing import StandardScaler, normalize\n",
    "import sklearn.feature_selection as fs\n",
    "from sklearn.metrics import r2_score, mean_squared_error, mean_absolute_error\n",
    "from sklearn.model_selection import train_test_split\n",
    "import sklearn.linear_model as lm\n",
    "from sklearn.decomposition import TruncatedSVD\n",
    "from sklearn.ensemble import RandomForestRegressor\n",
    "\n",
    "from IPython.display import Markdown as md\n",
    "from IPython.core.interactiveshell import InteractiveShell\n",
    "InteractiveShell.ast_node_interactivity = 'all'"
   ]
  },
  {
   "cell_type": "code",
   "execution_count": 2,
   "metadata": {},
   "outputs": [],
   "source": [
    "df = pd.read_csv('train.csv')\n",
    "Y = df['SalePrice']\n",
    "df = df.drop(['SalePrice'], axis=1)"
   ]
  },
  {
   "cell_type": "markdown",
   "metadata": {},
   "source": [
    "## Data Exploration I\n",
    "\n",
    "Upon doing a quick inspection of the data, I've devised with the following feature handling strategy: \n",
    "- variables with less than 20 unique values will be treated as categorical features, with the exception of\n",
    "    - PoolArea\n",
    "- the following features have more than 20 distinct values but will be treated as categorical\n",
    "    - Neighborhood\n",
    "- the following features have less than 20 unique values, but will more appropriately be treated as continuous features\n",
    "    - BsmtFullBath\n",
    "    - BsmtHalfBath\n",
    "    - FullBath\n",
    "    - HalfBath\n",
    "    - BedroomAbvGr\n",
    "    - KitchenAbvGr\n",
    "    - TotRmsAbvGrd\n",
    "    - Fireplaces\n",
    "    - GarageCars\n",
    "    - MoSold"
   ]
  },
  {
   "cell_type": "code",
   "execution_count": 3,
   "metadata": {
    "scrolled": true
   },
   "outputs": [],
   "source": [
    "not_converted = []\n",
    "for col in df.columns:\n",
    "    if (len(df[col].value_counts()) < 20):\n",
    "        if col != 'PoolArea':\n",
    "            df[col] = df[col].astype('category')\n",
    "#             print(col + ' converted to Category')\n",
    "    else:\n",
    "        not_converted.append(col)\n",
    "        \n",
    "# Categorical variables that have more than 20 distinct values.\n",
    "df['Neighborhood'] = df['Neighborhood'].astype('category')\n",
    "\n",
    "# Variables with less than 20 distinct values, that are not categorical. They contain counts, and \n",
    "# will be treated as continuous/numeric.\n",
    "to_convert = ['BsmtFullBath', 'BsmtHalfBath', 'FullBath', 'HalfBath', \n",
    "              'BedroomAbvGr', 'KitchenAbvGr', 'TotRmsAbvGrd', \n",
    "              'Fireplaces', 'GarageCars', 'YrSold']\n",
    "\n",
    "for col in to_convert:\n",
    "    # convert cols back to int. \n",
    "    df[col] = df[col].astype(int)\n",
    "    \n",
    "# Note to self - think about how to encode the cyclic 'month' variable"
   ]
  },
  {
   "cell_type": "markdown",
   "metadata": {},
   "source": [
    "Observations: \n",
    "   - The variables that are approximately normally distributed or have a skew, tend to be related to square footage.\n",
    "   - There are a handful of discrete numerical variables representing counts\n",
    "   - There are about 9 variables that look like they have a very low variability in information ie. have a high percentage of one value.    "
   ]
  },
  {
   "cell_type": "markdown",
   "metadata": {},
   "source": [
    "## Data Cleaning\n"
   ]
  },
  {
   "cell_type": "markdown",
   "metadata": {},
   "source": [
    "### High percentage of NAs\n",
    "\n",
    "Identifying variables with more than some percentage of NAs"
   ]
  },
  {
   "cell_type": "code",
   "execution_count": 4,
   "metadata": {
    "scrolled": false
   },
   "outputs": [
    {
     "data": {
      "image/png": "[encoded data removed]",
      "text/plain": [
       "<Figure size 576x432 with 1 Axes>"
      ]
     },
     "metadata": {
      "needs_background": "light"
     },
     "output_type": "display_data"
    }
   ],
   "source": [
    "thresh = .8\n",
    "nulls = df.isna().sum()\n",
    "\n",
    "fig = plt.figure(figsize=(8, 6))\n",
    "plt.barh(nulls[nulls > df.shape[0]*thresh].sort_values(ascending=False).index, \n",
    "         (nulls[nulls > df.shape[0]*thresh].sort_values(ascending=False)/df.shape[0]*100).values)\n",
    "fig.suptitle('Columns with percentage of missing values greater than 80%', fontsize=15)\n",
    "plt.xlabel('%', fontsize=12)\n",
    "plt.show();"
   ]
  },
  {
   "cell_type": "markdown",
   "metadata": {},
   "source": [
    "This plot suggests we should drop Alley, PoolQC, Fence, MiscFeature because they are over 80% null.\n",
    "Upon looking at the data dict however, you'll see that the NAs represent the case where a house does not have a given feature, and are not actually `nulls`. \n",
    "Let this be a reminder to understand what the data represents."
   ]
  },
  {
   "cell_type": "markdown",
   "metadata": {},
   "source": [
    "### Fill missing values"
   ]
  },
  {
   "cell_type": "code",
   "execution_count": 5,
   "metadata": {},
   "outputs": [],
   "source": [
    "# Separate out columns by data type to fill in missing values\n",
    "integer_columns = df.select_dtypes(include=[np.int64, np.float64])\n",
    "categorical_columns = df[df.select_dtypes(include=['category']).columns.union(['Id'])]\n",
    "\n",
    "# Interpolate the two integer fields using linear interpolation\n",
    "integer_columns = integer_columns.interpolate()\n",
    "\n",
    "# Handling the two fields where the NaNs do not correspond to a known value.\n",
    "# Fields 'Electrical' and \"MasVnrType\" have 8 and 1 missing values respectively. Since these are two fields\n",
    "# where the NaN does not correspond to a value, and since there are so few records, we're dropping those.\n",
    "categorical_columns = categorical_columns[~categorical_columns['Electrical'].isna()]\n",
    "categorical_columns = categorical_columns[~categorical_columns['MasVnrType'].isna()]\n",
    "\n",
    "# adding 'None' category to categorical fields, and then replacing NaN with 'None' so the records can be used in models\n",
    "def add_category(df, col):\n",
    "    df[col].cat.add_categories('None', inplace=True)\n",
    "\n",
    "null_categorical = categorical_columns.isna().sum().sort_values(ascending=False).reset_index()\n",
    "null_categorical = null_categorical[null_categorical['index'] != 'Id']\n",
    "for index, row in null_categorical.iterrows():\n",
    "    if row[0] > 0:\n",
    "        add_category(categorical_columns, row['index'])\n",
    "        categorical_columns[row['index']] = categorical_columns[row['index']].fillna(value='None')\n",
    "        \n",
    "processed_df = integer_columns.join(categorical_columns.set_index('Id'), on='Id').drop(['Id'], axis=1)"
   ]
  },
  {
   "cell_type": "markdown",
   "metadata": {},
   "source": [
    "### Split data into Train, Test, Validation"
   ]
  },
  {
   "cell_type": "code",
   "execution_count": 6,
   "metadata": {},
   "outputs": [
    {
     "name": "stderr",
     "output_type": "stream",
     "text": [
      "/Users/aditinabar/anaconda3/lib/python3.7/site-packages/sklearn/model_selection/_split.py:2179: FutureWarning: From version 0.21, test_size will always complement train_size unless both are specified.\n",
      "  FutureWarning)\n"
     ]
    }
   ],
   "source": [
    "X = pd.get_dummies(processed_df, drop_first=True)\n",
    "\n",
    "train_X, test_X, train_Y, test_Y = train_test_split(X, Y, train_size=.8, random_state=10)\n",
    "test_X, val_X, test_Y, val_Y = train_test_split(test_X, test_Y, train_size=.8, random_state=10)"
   ]
  },
  {
   "cell_type": "markdown",
   "metadata": {},
   "source": [
    "### Predicting with linear models"
   ]
  },
  {
   "cell_type": "code",
   "execution_count": 7,
   "metadata": {},
   "outputs": [
    {
     "name": "stderr",
     "output_type": "stream",
     "text": [
      "/Users/aditinabar/anaconda3/lib/python3.7/site-packages/sklearn/preprocessing/data.py:645: DataConversionWarning: Data with input dtype uint8, int64, float64 were all converted to float64 by StandardScaler.\n",
      "  return self.partial_fit(X, y)\n",
      "/Users/aditinabar/anaconda3/lib/python3.7/site-packages/sklearn/base.py:464: DataConversionWarning: Data with input dtype uint8, int64, float64 were all converted to float64 by StandardScaler.\n",
      "  return self.fit(X, **fit_params).transform(X)\n"
     ]
    }
   ],
   "source": [
    "# perform standardization of the data\n",
    "# Center the data so the mean = 0, and stdev = 1\n",
    "scalar = StandardScaler()\n",
    "X_standardized = scalar.fit_transform(train_X)\n",
    "\n",
    "# normalizing using the L2 norm \n",
    "X_scaled = normalize(X_standardized, norm='l2')"
   ]
  },
  {
   "cell_type": "code",
   "execution_count": 8,
   "metadata": {},
   "outputs": [
    {
     "name": "stdout",
     "output_type": "stream",
     "text": [
      "Prediction score of simple linear regression on raw data:  0.943140738526764 \n",
      "\n",
      "Prediction score of simple linear regression on scaled and normalized data:  0.9187416834005794\n"
     ]
    }
   ],
   "source": [
    "# fit linear regression on X (original with dummy variables for categorical)\n",
    "reg_lm_raw = lm.LinearRegression().fit(train_X, train_Y)\n",
    "print('Prediction score of simple linear regression on raw data: ', reg_lm_raw.score(train_X, train_Y), '\\n')\n",
    "\n",
    "# fit linear regression on standardized and normalized data\n",
    "reg_lm_scaled = lm.LinearRegression().fit(X_scaled, train_Y)\n",
    "print('Prediction score of simple linear regression on scaled and normalized data: ', reg_lm_scaled.score(X_scaled, train_Y))"
   ]
  },
  {
   "cell_type": "markdown",
   "metadata": {},
   "source": [
    "Scaling and normalizing the data did not yield a better prediction accuracy for the simple linear regression, but will be necessary for additional models used below. We'll primarily use X_scaled going forward.\n"
   ]
  },
  {
   "cell_type": "markdown",
   "metadata": {},
   "source": [
    "### Predicting with the LASSO"
   ]
  },
  {
   "cell_type": "code",
   "execution_count": 9,
   "metadata": {},
   "outputs": [
    {
     "data": {
      "text/plain": [
       "0.9077321663599548"
      ]
     },
     "execution_count": 9,
     "metadata": {},
     "output_type": "execute_result"
    }
   ],
   "source": [
    "# Lasso Regression | L1 norm aka sum(abs(Beta)). Regularizes the loss with lambda*sum(abs(Beta))\n",
    "reg_lasso = lm.Lasso(alpha=5, \n",
    "                     fit_intercept=True, \n",
    "                     normalize=False, \n",
    "                     max_iter=10000\n",
    "                    )\\\n",
    "              .fit(X_scaled, train_Y)\n",
    "\n",
    "reg_lasso.score(X_scaled, train_Y)"
   ]
  },
  {
   "cell_type": "markdown",
   "metadata": {},
   "source": [
    "This model achieved a similar R^2 to the simple linear regression with just an alpha of 5. I chose to use a LASSO to be able to make a prediction while also having some meaningful understanding of which house attributes provide a contribution to the eventual sale price. Let's get a sense of how many input features can be dropped while still maintaining an acceptable model performance."
   ]
  },
  {
   "cell_type": "code",
   "execution_count": 10,
   "metadata": {
    "scrolled": true
   },
   "outputs": [
    {
     "data": {
      "image/png": "[encoded data removed]",
      "text/plain": [
       "<Figure size 576x360 with 1 Axes>"
      ]
     },
     "metadata": {
      "needs_background": "light"
     },
     "output_type": "display_data"
    }
   ],
   "source": [
    "regressions = []\n",
    "scores = []\n",
    "alphas = np.arange(5, 42, 2)\n",
    "\n",
    "for a in alphas:\n",
    "    regression = lm.Lasso(alpha=a, \n",
    "                          fit_intercept=True, \n",
    "                          normalize=False, \n",
    "                          max_iter=10000\n",
    "                         )\\\n",
    "                   .fit(X_scaled, train_Y)\n",
    "    regressions.append(regression)\n",
    "    scores.append(regression.score(X_scaled, train_Y))\n",
    "\n",
    "# plt.figure()\n",
    "fig, ax = plt.subplots(figsize=(8, 5))\n",
    "color = 'tab:blue'\n",
    "line1 = ax.plot(alphas, scores, color=color, label='model accuracy')\n",
    "plt.xticks(alphas)\n",
    "plt.grid(True, linestyle='-.')\n",
    "plt.xlabel('alpha')\n",
    "plt.ylim([0, 1])\n",
    "plt.ylabel('Percentage', color='black', size=12)\n",
    "plt.title('The cost (or not) of dropping variables')\n",
    "\n",
    "# collections.Counter returns dict with counts of each value in list. Using to get counts of 0\n",
    "coefs = [collections.Counter(x.coef_)[0]/len(x.coef_) for x in regressions]\n",
    "\n",
    "color = 'tab:olive'\n",
    "line2 = ax.plot(alphas, 1 - np.array(coefs), color=color, label='pct features retained')\n",
    "# plt2.set_ylabel('Fraction of features retained', color=color, size=12)\n",
    "plt.legend(bbox_to_anchor=(1.01,1))\n",
    "plt.show();"
   ]
  },
  {
   "cell_type": "code",
   "execution_count": 11,
   "metadata": {
    "variables": {
     " np.round((scores[-1] - scores[0]) * 100, 2) ": "-2.61"
    }
   },
   "outputs": [
    {
     "name": "stdout",
     "output_type": "stream",
     "text": [
      "This plot shows that a penalty factor of alpha = 41 which drops about 56% of the input features \n",
      "would cost a -2.81 percentage point drop in accuracy. Below we'll compare the performance of the\n",
      "lasso with alpha = 5 and alpha = 41.\n"
     ]
    }
   ],
   "source": [
    "print(f\"This plot shows that a penalty factor of alpha = 41 which drops about {np.round(coefs[-1]*100,0).astype(int)}% of the input features \\nwould cost a {np.round((scores[-1] - scores[0]) * 100, 2)} percentage point drop in accuracy. Below we'll compare the performance of the\\nlasso with alpha = 5 and alpha = 41.\")\n"
   ]
  },
  {
   "cell_type": "code",
   "execution_count": 12,
   "metadata": {},
   "outputs": [
    {
     "data": {
      "text/plain": [
       "0.8796169035485153"
      ]
     },
     "execution_count": 12,
     "metadata": {},
     "output_type": "execute_result"
    }
   ],
   "source": [
    "# Lasso Regression with alpha=19\n",
    "a = 41\n",
    "lasso_41 = lm.Lasso(alpha=a, fit_intercept=True, normalize=False, max_iter=10000).fit(X_scaled, train_Y)\n",
    "lasso_41.score(X_scaled, train_Y)"
   ]
  },
  {
   "cell_type": "markdown",
   "metadata": {},
   "source": [
    "### Evaluate generalizability of lasso and simple linear regression"
   ]
  },
  {
   "cell_type": "code",
   "execution_count": 13,
   "metadata": {},
   "outputs": [
    {
     "name": "stderr",
     "output_type": "stream",
     "text": [
      "/Users/aditinabar/anaconda3/lib/python3.7/site-packages/ipykernel_launcher.py:1: DataConversionWarning: Data with input dtype uint8, int64, float64 were all converted to float64 by StandardScaler.\n",
      "  \"\"\"Entry point for launching an IPython kernel.\n"
     ]
    }
   ],
   "source": [
    "test_X_standardized = scalar.transform(test_X)\n",
    "test_X_scaled = normalize(test_X_standardized, norm='l2')"
   ]
  },
  {
   "cell_type": "code",
   "execution_count": 28,
   "metadata": {},
   "outputs": [
    {
     "data": {
      "text/html": [
       "<div>\n",
       "<style scoped>\n",
       "    .dataframe tbody tr th:only-of-type {\n",
       "        vertical-align: middle;\n",
       "    }\n",
       "\n",
       "    .dataframe tbody tr th {\n",
       "        vertical-align: top;\n",
       "    }\n",
       "\n",
       "    .dataframe thead th {\n",
       "        text-align: right;\n",
       "    }\n",
       "</style>\n",
       "<table border=\"1\" class=\"dataframe\">\n",
       "  <thead>\n",
       "    <tr style=\"text-align: right;\">\n",
       "      <th></th>\n",
       "      <th>model</th>\n",
       "      <th>data</th>\n",
       "      <th>R**2_train</th>\n",
       "      <th>R**2_test</th>\n",
       "    </tr>\n",
       "  </thead>\n",
       "  <tbody>\n",
       "    <tr>\n",
       "      <th>0</th>\n",
       "      <td>OLS</td>\n",
       "      <td>raw, unprocessed data</td>\n",
       "      <td>0.943141</td>\n",
       "      <td>3.661155e-01</td>\n",
       "    </tr>\n",
       "    <tr>\n",
       "      <th>1</th>\n",
       "      <td>OLS</td>\n",
       "      <td>standardized and normalized data</td>\n",
       "      <td>0.918742</td>\n",
       "      <td>-9.887139e+20</td>\n",
       "    </tr>\n",
       "    <tr>\n",
       "      <th>2</th>\n",
       "      <td>LASSO</td>\n",
       "      <td>standardized and normalized data</td>\n",
       "      <td>0.907732</td>\n",
       "      <td>8.488639e-01</td>\n",
       "    </tr>\n",
       "    <tr>\n",
       "      <th>3</th>\n",
       "      <td>LASSO-41</td>\n",
       "      <td>standardized and normalized data</td>\n",
       "      <td>0.879617</td>\n",
       "      <td>8.437122e-01</td>\n",
       "    </tr>\n",
       "  </tbody>\n",
       "</table>\n",
       "</div>"
      ],
      "text/plain": [
       "      model                              data  R**2_train     R**2_test\n",
       "0       OLS             raw, unprocessed data    0.943141  3.661155e-01\n",
       "1       OLS  standardized and normalized data    0.918742 -9.887139e+20\n",
       "2     LASSO  standardized and normalized data    0.907732  8.488639e-01\n",
       "3  LASSO-41  standardized and normalized data    0.879617  8.437122e-01"
      ]
     },
     "execution_count": 28,
     "metadata": {},
     "output_type": "execute_result"
    }
   ],
   "source": [
    "model_performance = pd.DataFrame(data={'model': ['OLS', 'OLS', 'LASSO','LASSO-41'], \n",
    "                                       'data':['raw, unprocessed data', 'standardized and normalized data', 'standardized and normalized data', 'standardized and normalized data'],\n",
    "                                       'R**2_train': [reg_lm_raw.score(train_X, train_Y), reg_lm_scaled.score(X_scaled, train_Y),reg_lasso.score(X_scaled, train_Y), lasso_41.score(X_scaled, train_Y),],\n",
    "                                       'R**2_test': [reg_lm_raw.score(test_X, test_Y), reg_lm_scaled.score(test_X_scaled, test_Y), reg_lasso.score(test_X_scaled, test_Y), lasso_41.score(test_X_scaled, test_Y)]\n",
    "                                      })\n",
    "model_performance"
   ]
  },
  {
   "cell_type": "markdown",
   "metadata": {},
   "source": [
    "The R^2 value of the linear regression is deep in the negatives as we can see. The model's performance on the scaled test set appears to have suffered more of a performance hit than the LASSO analysis, which dropped 50% of the input features. "
   ]
  },
  {
   "cell_type": "markdown",
   "metadata": {},
   "source": [
    "### Singular Value Decomposition"
   ]
  },
  {
   "cell_type": "markdown",
   "metadata": {},
   "source": [
    "This section will explore using SVD as a method to perform dimensionality reduction on the data and using the resulting components as inputs to a linear regression."
   ]
  },
  {
   "cell_type": "code",
   "execution_count": 15,
   "metadata": {
    "scrolled": true
   },
   "outputs": [
    {
     "data": {
      "image/png": "[encoded data removed]",
      "text/plain": [
       "<Figure size 1080x360 with 1 Axes>"
      ]
     },
     "metadata": {},
     "output_type": "display_data"
    }
   ],
   "source": [
    "n_components = 50\n",
    "\n",
    "SVD = TruncatedSVD(n_components=n_components, algorithm='randomized', random_state=7)\n",
    "SVD.fit(X_scaled)\n",
    "X_SVD_transformed = SVD.transform(X_scaled)\n",
    "plt.figure(figsize=(15, 5), facecolor='w', edgecolor='k')\n",
    "plt.plot(range(n_components), SVD.explained_variance_ratio_, '.')\n",
    "plt.title('Variance explained by each component')\n",
    "plt.xlabel('n_components')\n",
    "plt.ylabel('% variance explained')\n",
    "plt.show();"
   ]
  },
  {
   "cell_type": "code",
   "execution_count": 16,
   "metadata": {
    "scrolled": false
   },
   "outputs": [
    {
     "name": "stdout",
     "output_type": "stream",
     "text": [
      "Prediction score of simple linear regression on raw data:  0.7196069916834062\n",
      "\n",
      "Interestingly, the first 10 components explain only 29.57% of the variance in the data,\n",
      "yet yield a model accuracy of 0.7196.\n",
      "\n",
      "I'll include another 20 components to see if that will improve model performance.\n"
     ]
    }
   ],
   "source": [
    "# fit linear regression on first 10 components given by the SVD's singular values.\n",
    "SVD_10 = pd.DataFrame(X_SVD_transformed).iloc[:,0:11]\n",
    "reg_SVD = lm.LinearRegression().fit(SVD_10, train_Y)\n",
    "print('Prediction score of simple linear regression on raw data: ', reg_SVD.score(SVD_10, train_Y))\n",
    "print(f\"\\nInterestingly, the first 10 components explain only {np.round(sum(SVD.explained_variance_ratio_[:11]) * 100, 2)}% of the variance in the data,\\nyet yield a model accuracy of {np.round(reg_SVD.score(SVD_10, train_Y), 4)}.\\n\\nI\\'ll include another 20 components to see if that will improve model performance.\")"
   ]
  },
  {
   "cell_type": "code",
   "execution_count": 17,
   "metadata": {},
   "outputs": [
    {
     "name": "stdout",
     "output_type": "stream",
     "text": [
      "Prediction score of simple linear regression on raw data:  0.7542708330011957\n",
      "By including 20 more components in this regression, the model is able to capture 4% more variance in the \n"
     ]
    }
   ],
   "source": [
    "SVD_30 = pd.DataFrame(X_SVD_transformed).iloc[:,0:31]\n",
    "reg_SVD_30 = lm.LinearRegression().fit(SVD_30, train_Y)\n",
    "print('Prediction score of simple linear regression on raw data: ', reg_SVD_30.score(SVD_30, train_Y))\n",
    "print('By including 20 more components in this regression, the model is able to capture 4% more variance in the ')\n"
   ]
  },
  {
   "cell_type": "markdown",
   "metadata": {},
   "source": [
    "### Evaluate generalizability of linear regression + SVD \n",
    "ie. the performance of a linear regression on the singular vectors given by the Singular Value Decomposition"
   ]
  },
  {
   "cell_type": "code",
   "execution_count": 18,
   "metadata": {},
   "outputs": [],
   "source": [
    "SVD_test = SVD.transform(test_X_scaled)\n",
    "SVD_10_test = pd.DataFrame(SVD_test).iloc[:,0:11]\n",
    "SVD_30_test = pd.DataFrame(SVD_test).iloc[:,0:31]"
   ]
  },
  {
   "cell_type": "code",
   "execution_count": 29,
   "metadata": {},
   "outputs": [
    {
     "data": {
      "text/html": [
       "<div>\n",
       "<style scoped>\n",
       "    .dataframe tbody tr th:only-of-type {\n",
       "        vertical-align: middle;\n",
       "    }\n",
       "\n",
       "    .dataframe tbody tr th {\n",
       "        vertical-align: top;\n",
       "    }\n",
       "\n",
       "    .dataframe thead th {\n",
       "        text-align: right;\n",
       "    }\n",
       "</style>\n",
       "<table border=\"1\" class=\"dataframe\">\n",
       "  <thead>\n",
       "    <tr style=\"text-align: right;\">\n",
       "      <th></th>\n",
       "      <th>model</th>\n",
       "      <th>data</th>\n",
       "      <th>R**2_train</th>\n",
       "      <th>R**2_test</th>\n",
       "    </tr>\n",
       "  </thead>\n",
       "  <tbody>\n",
       "    <tr>\n",
       "      <th>0</th>\n",
       "      <td>OLS</td>\n",
       "      <td>raw, unprocessed data</td>\n",
       "      <td>0.943141</td>\n",
       "      <td>3.661155e-01</td>\n",
       "    </tr>\n",
       "    <tr>\n",
       "      <th>1</th>\n",
       "      <td>OLS</td>\n",
       "      <td>standardized and normalized data</td>\n",
       "      <td>0.918742</td>\n",
       "      <td>-9.887139e+20</td>\n",
       "    </tr>\n",
       "    <tr>\n",
       "      <th>2</th>\n",
       "      <td>LASSO</td>\n",
       "      <td>standardized and normalized data</td>\n",
       "      <td>0.907732</td>\n",
       "      <td>8.488639e-01</td>\n",
       "    </tr>\n",
       "    <tr>\n",
       "      <th>3</th>\n",
       "      <td>LASSO-41</td>\n",
       "      <td>standardized and normalized data</td>\n",
       "      <td>0.879617</td>\n",
       "      <td>8.437122e-01</td>\n",
       "    </tr>\n",
       "    <tr>\n",
       "      <th>4</th>\n",
       "      <td>SVD-10</td>\n",
       "      <td>first 10 components given by the singular values</td>\n",
       "      <td>0.719607</td>\n",
       "      <td>7.835745e-01</td>\n",
       "    </tr>\n",
       "    <tr>\n",
       "      <th>5</th>\n",
       "      <td>SVD-30</td>\n",
       "      <td>first 30 components given by the singular values</td>\n",
       "      <td>0.754271</td>\n",
       "      <td>7.905784e-01</td>\n",
       "    </tr>\n",
       "  </tbody>\n",
       "</table>\n",
       "</div>"
      ],
      "text/plain": [
       "      model                                              data  R**2_train  \\\n",
       "0       OLS                             raw, unprocessed data    0.943141   \n",
       "1       OLS                  standardized and normalized data    0.918742   \n",
       "2     LASSO                  standardized and normalized data    0.907732   \n",
       "3  LASSO-41                  standardized and normalized data    0.879617   \n",
       "4    SVD-10  first 10 components given by the singular values    0.719607   \n",
       "5    SVD-30  first 30 components given by the singular values    0.754271   \n",
       "\n",
       "      R**2_test  \n",
       "0  3.661155e-01  \n",
       "1 -9.887139e+20  \n",
       "2  8.488639e-01  \n",
       "3  8.437122e-01  \n",
       "4  7.835745e-01  \n",
       "5  7.905784e-01  "
      ]
     },
     "execution_count": 29,
     "metadata": {},
     "output_type": "execute_result"
    }
   ],
   "source": [
    "model_performance = model_performance.append({'model': 'SVD-10', \n",
    "                          'data':'first 10 components given by the singular values', \n",
    "                          'R**2_train':reg_SVD.score(SVD_10, train_Y),\n",
    "                          'R**2_test':reg_SVD.score(SVD_10_test, test_Y)},\n",
    "                        ignore_index=True)\n",
    "model_performance = model_performance.append({'model': 'SVD-30', \n",
    "                          'data':'first 30 components given by the singular values', \n",
    "                          'R**2_train':reg_SVD_30.score(SVD_30, train_Y),\n",
    "                          'R**2_test':reg_SVD_30.score(SVD_30_test, test_Y)},\n",
    "                        ignore_index=True).drop_duplicates()\n",
    "model_performance"
   ]
  },
  {
   "cell_type": "markdown",
   "metadata": {},
   "source": [
    "### Regression with ElasticNet"
   ]
  },
  {
   "cell_type": "code",
   "execution_count": null,
   "metadata": {
    "scrolled": true
   },
   "outputs": [],
   "source": [
    "# Elasticnet: uses both the Ridge and Lasso penalties. Drawback of Lasso is that if there are a number of correlated \n",
    "# variables, it will only select one, and deselect for the rest. "
   ]
  },
  {
   "cell_type": "markdown",
   "metadata": {},
   "source": [
    "\\begin{equation*}\n",
    "{\\hat {\\beta }}\\equiv {\\underset {\\beta }{\\operatorname {argmin} }}(\\|y-X\\beta \\|^{2}+\\lambda _{2}\\|\\beta \\|^2_2+\\lambda _{1}\\|\\beta \\|_{1})\n",
    "\\end{equation*}"
   ]
  },
  {
   "cell_type": "markdown",
   "metadata": {},
   "source": [
    "scikit-learn's elasticnet implementation allows you to attribute weights (which sum to 1) to each of the penalties. Setting $l1_{ratio} = 1 $ will apply the Lasso, or $L1$ norm, penalty and setting $l1_{ratio} = 0$ will apply the Ridge, or $L2$ norm penalty. When $0 < l1_{ratio} < 1$ will apply some fraction of both penalties. The following is the objective function the implementation aims to minimize\n",
    "\n",
    "\\begin{equation*}\n",
    "{\\frac{1}{2*n_{samples}} * ||y - X\\beta||^2_2\n",
    "+ \\alpha * l1_{ratio} * ||\\beta||_1\n",
    "+ 0.5 * \\alpha * (1 - l1_{ratio}) * ||\\beta||^2_2}\n",
    "\\end{equation*}"
   ]
  },
  {
   "cell_type": "code",
   "execution_count": 20,
   "metadata": {},
   "outputs": [
    {
     "data": {
      "text/plain": [
       "ElasticNet(alpha=1.0, copy_X=True, fit_intercept=True, l1_ratio=0.5,\n",
       "      max_iter=1000, normalize=False, positive=False, precompute=False,\n",
       "      random_state=17, selection='cyclic', tol=0.0001, warm_start=False)"
      ]
     },
     "execution_count": 20,
     "metadata": {},
     "output_type": "execute_result"
    },
    {
     "data": {
      "text/plain": [
       "0.15250643532854713"
      ]
     },
     "execution_count": 20,
     "metadata": {},
     "output_type": "execute_result"
    }
   ],
   "source": [
    "# Start with the default implementation on the scaled input used for Lasso above.\n",
    "# The data must be Fortran-contiguous. Checking X_scaled.flags verifies that this condition is met.\n",
    "\n",
    "ElastNet = lm.ElasticNet(random_state=17)\n",
    "ElastNet.fit(X_scaled, train_Y)\n",
    "ElastNet.score(X_scaled, train_Y)\n",
    "predictions_elastnet = ElastNet.predict(X_scaled)\n",
    "testpredictions_elastnet = ElastNet.predict(test_X_scaled)"
   ]
  },
  {
   "cell_type": "code",
   "execution_count": 21,
   "metadata": {
    "scrolled": true
   },
   "outputs": [
    {
     "data": {
      "text/plain": [
       "6030123220.825118"
      ]
     },
     "execution_count": 21,
     "metadata": {},
     "output_type": "execute_result"
    }
   ],
   "source": [
    "mean_squared_error(testpredictions_elastnet, test_Y)"
   ]
  },
  {
   "cell_type": "markdown",
   "metadata": {},
   "source": [
    "We're looking at pretty terrible performance out of the box. Let's tune the model."
   ]
  },
  {
   "cell_type": "code",
   "execution_count": 22,
   "metadata": {
    "scrolled": true
   },
   "outputs": [
    {
     "data": {
      "text/plain": [
       "ElasticNet(alpha=5, copy_X=True, fit_intercept=True, l1_ratio=0.75,\n",
       "      max_iter=1000000, normalize=False, positive=False, precompute=False,\n",
       "      random_state=17, selection='cyclic', tol=1e-06, warm_start=False)"
      ]
     },
     "execution_count": 22,
     "metadata": {},
     "output_type": "execute_result"
    },
    {
     "data": {
      "text/plain": [
       "0.7696919618869859"
      ]
     },
     "execution_count": 22,
     "metadata": {},
     "output_type": "execute_result"
    }
   ],
   "source": [
    "# Increase max_iter to give the model the opportunity to converge\n",
    "# Increase alpha from 1 to 10\n",
    "# increase the weight of the lasso penalty (the l1 norm)\n",
    "\n",
    "ElastNet2 = lm.ElasticNet(alpha=10,l1_ratio=.75, fit_intercept=True, selection='cyclic', max_iter=1000000, tol=0.000001, random_state=17)\n",
    "ElastNet2.fit(train_X, train_Y)\n",
    "ElastNet2.score(train_X, train_Y)\n",
    "testpredictions_elastnet2 = ElastNet2.predict(test_X)"
   ]
  },
  {
   "cell_type": "code",
   "execution_count": null,
   "metadata": {},
   "outputs": [],
   "source": [
    "ElastNet2.n_iter_"
   ]
  },
  {
   "cell_type": "code",
   "execution_count": 23,
   "metadata": {},
   "outputs": [
    {
     "data": {
      "text/plain": [
       "1346111153.6910222"
      ]
     },
     "execution_count": 23,
     "metadata": {},
     "output_type": "execute_result"
    }
   ],
   "source": [
    "mean_squared_error(testpredictions_elastnet2, test_Y)"
   ]
  },
  {
   "cell_type": "code",
   "execution_count": 32,
   "metadata": {},
   "outputs": [
    {
     "data": {
      "text/html": [
       "<div>\n",
       "<style scoped>\n",
       "    .dataframe tbody tr th:only-of-type {\n",
       "        vertical-align: middle;\n",
       "    }\n",
       "\n",
       "    .dataframe tbody tr th {\n",
       "        vertical-align: top;\n",
       "    }\n",
       "\n",
       "    .dataframe thead th {\n",
       "        text-align: right;\n",
       "    }\n",
       "</style>\n",
       "<table border=\"1\" class=\"dataframe\">\n",
       "  <thead>\n",
       "    <tr style=\"text-align: right;\">\n",
       "      <th></th>\n",
       "      <th>model</th>\n",
       "      <th>data</th>\n",
       "      <th>R**2_train</th>\n",
       "      <th>R**2_test</th>\n",
       "    </tr>\n",
       "  </thead>\n",
       "  <tbody>\n",
       "    <tr>\n",
       "      <th>0</th>\n",
       "      <td>OLS</td>\n",
       "      <td>raw, unprocessed data</td>\n",
       "      <td>0.943141</td>\n",
       "      <td>3.661155e-01</td>\n",
       "    </tr>\n",
       "    <tr>\n",
       "      <th>1</th>\n",
       "      <td>OLS</td>\n",
       "      <td>standardized and normalized data</td>\n",
       "      <td>0.918742</td>\n",
       "      <td>-9.887139e+20</td>\n",
       "    </tr>\n",
       "    <tr>\n",
       "      <th>2</th>\n",
       "      <td>LASSO</td>\n",
       "      <td>standardized and normalized data</td>\n",
       "      <td>0.907732</td>\n",
       "      <td>8.488639e-01</td>\n",
       "    </tr>\n",
       "    <tr>\n",
       "      <th>3</th>\n",
       "      <td>LASSO-41</td>\n",
       "      <td>standardized and normalized data</td>\n",
       "      <td>0.879617</td>\n",
       "      <td>8.437122e-01</td>\n",
       "    </tr>\n",
       "    <tr>\n",
       "      <th>4</th>\n",
       "      <td>SVD-10</td>\n",
       "      <td>first 10 components given by the singular values</td>\n",
       "      <td>0.719607</td>\n",
       "      <td>7.835745e-01</td>\n",
       "    </tr>\n",
       "    <tr>\n",
       "      <th>5</th>\n",
       "      <td>SVD-30</td>\n",
       "      <td>first 30 components given by the singular values</td>\n",
       "      <td>0.754271</td>\n",
       "      <td>7.905784e-01</td>\n",
       "    </tr>\n",
       "    <tr>\n",
       "      <th>6</th>\n",
       "      <td>ElasticNet</td>\n",
       "      <td>standardized and normalized data</td>\n",
       "      <td>0.152506</td>\n",
       "      <td>1.560576e-01</td>\n",
       "    </tr>\n",
       "  </tbody>\n",
       "</table>\n",
       "</div>"
      ],
      "text/plain": [
       "        model                                              data  R**2_train  \\\n",
       "0         OLS                             raw, unprocessed data    0.943141   \n",
       "1         OLS                  standardized and normalized data    0.918742   \n",
       "2       LASSO                  standardized and normalized data    0.907732   \n",
       "3    LASSO-41                  standardized and normalized data    0.879617   \n",
       "4      SVD-10  first 10 components given by the singular values    0.719607   \n",
       "5      SVD-30  first 30 components given by the singular values    0.754271   \n",
       "6  ElasticNet                  standardized and normalized data    0.152506   \n",
       "\n",
       "      R**2_test  \n",
       "0  3.661155e-01  \n",
       "1 -9.887139e+20  \n",
       "2  8.488639e-01  \n",
       "3  8.437122e-01  \n",
       "4  7.835745e-01  \n",
       "5  7.905784e-01  \n",
       "6  1.560576e-01  "
      ]
     },
     "execution_count": 32,
     "metadata": {},
     "output_type": "execute_result"
    }
   ],
   "source": [
    "to_append = pd.Series(['ElasticNet', \n",
    "                       'standardized and normalized data', \n",
    "                       ElastNet.score(X_scaled, train_Y), \n",
    "                       ElastNet.score(test_X_scaled, test_Y)], \n",
    "                      index=model_performance.columns)\n",
    "model_performance = model_performance.append(to_append, ignore_index=True)\n",
    "\n",
    "to_append = pd.Series(['ElasticNet', \n",
    "                       'raw, unprocessed data', \n",
    "                       ElastNet2.score(train_X, train_Y), \n",
    "                       ElastNet2.score(test_X, test_Y)], \n",
    "                      index=model_performance.columns)\n",
    "model_performance = model_performance.append(to_append, ignore_index=True)\n",
    "model_performance\n",
    "\n",
    "model_performance = model_performance.append({'model': ['ElasticNet', 'ElasticNet'], \n",
    "                          'data':['standardized and normalized data', 'raw, unprocessed data'], \n",
    "                          'R**2_train':[ElastNet.score(X_scaled, train_Y), ElastNet2.score(train_X, train_Y)],\n",
    "                          'R**2_test':[ElastNet.score(test_X_scaled, test_Y), ElastNet2.score(test_X, test_Y)]},\n",
    "                        ignore_index=True)"
   ]
  },
  {
   "cell_type": "code",
   "execution_count": 25,
   "metadata": {},
   "outputs": [
    {
     "data": {
      "text/html": [
       "<div>\n",
       "<style scoped>\n",
       "    .dataframe tbody tr th:only-of-type {\n",
       "        vertical-align: middle;\n",
       "    }\n",
       "\n",
       "    .dataframe tbody tr th {\n",
       "        vertical-align: top;\n",
       "    }\n",
       "\n",
       "    .dataframe thead th {\n",
       "        text-align: right;\n",
       "    }\n",
       "</style>\n",
       "<table border=\"1\" class=\"dataframe\">\n",
       "  <thead>\n",
       "    <tr style=\"text-align: right;\">\n",
       "      <th></th>\n",
       "      <th>model</th>\n",
       "      <th>data</th>\n",
       "      <th>R**2_train</th>\n",
       "      <th>R**2_test</th>\n",
       "    </tr>\n",
       "  </thead>\n",
       "  <tbody>\n",
       "    <tr>\n",
       "      <th>0</th>\n",
       "      <td>OLS</td>\n",
       "      <td>raw, unprocessed data</td>\n",
       "      <td>0.943141</td>\n",
       "      <td>0.366115</td>\n",
       "    </tr>\n",
       "    <tr>\n",
       "      <th>1</th>\n",
       "      <td>OLS</td>\n",
       "      <td>standardized and normalized data</td>\n",
       "      <td>0.918742</td>\n",
       "      <td>-9.88714e+20</td>\n",
       "    </tr>\n",
       "    <tr>\n",
       "      <th>2</th>\n",
       "      <td>LASSO</td>\n",
       "      <td>standardized and normalized data</td>\n",
       "      <td>0.907732</td>\n",
       "      <td>0.848864</td>\n",
       "    </tr>\n",
       "    <tr>\n",
       "      <th>3</th>\n",
       "      <td>LASSO-41</td>\n",
       "      <td>standardized and normalized data</td>\n",
       "      <td>0.879617</td>\n",
       "      <td>0.843712</td>\n",
       "    </tr>\n",
       "    <tr>\n",
       "      <th>4</th>\n",
       "      <td>SVD-10</td>\n",
       "      <td>first 10 components given by the singular values</td>\n",
       "      <td>0.719607</td>\n",
       "      <td>0.783574</td>\n",
       "    </tr>\n",
       "    <tr>\n",
       "      <th>5</th>\n",
       "      <td>SVD-30</td>\n",
       "      <td>first 30 components given by the singular values</td>\n",
       "      <td>0.754271</td>\n",
       "      <td>0.790578</td>\n",
       "    </tr>\n",
       "    <tr>\n",
       "      <th>6</th>\n",
       "      <td>[ElasticNet, ElasticNet]</td>\n",
       "      <td>[standardized and normalized data, raw, unproc...</td>\n",
       "      <td>[0.15250643532854713, 0.7696919618869859]</td>\n",
       "      <td>[0.15605759218134252, 0.8116057920152906]</td>\n",
       "    </tr>\n",
       "  </tbody>\n",
       "</table>\n",
       "</div>"
      ],
      "text/plain": [
       "                      model  \\\n",
       "0                       OLS   \n",
       "1                       OLS   \n",
       "2                     LASSO   \n",
       "3                  LASSO-41   \n",
       "4                    SVD-10   \n",
       "5                    SVD-30   \n",
       "6  [ElasticNet, ElasticNet]   \n",
       "\n",
       "                                                data  \\\n",
       "0                              raw, unprocessed data   \n",
       "1                   standardized and normalized data   \n",
       "2                   standardized and normalized data   \n",
       "3                   standardized and normalized data   \n",
       "4   first 10 components given by the singular values   \n",
       "5   first 30 components given by the singular values   \n",
       "6  [standardized and normalized data, raw, unproc...   \n",
       "\n",
       "                                  R**2_train  \\\n",
       "0                                   0.943141   \n",
       "1                                   0.918742   \n",
       "2                                   0.907732   \n",
       "3                                   0.879617   \n",
       "4                                   0.719607   \n",
       "5                                   0.754271   \n",
       "6  [0.15250643532854713, 0.7696919618869859]   \n",
       "\n",
       "                                   R**2_test  \n",
       "0                                   0.366115  \n",
       "1                               -9.88714e+20  \n",
       "2                                   0.848864  \n",
       "3                                   0.843712  \n",
       "4                                   0.783574  \n",
       "5                                   0.790578  \n",
       "6  [0.15605759218134252, 0.8116057920152906]  "
      ]
     },
     "execution_count": 25,
     "metadata": {},
     "output_type": "execute_result"
    }
   ],
   "source": [
    "model_performance"
   ]
  },
  {
   "cell_type": "markdown",
   "metadata": {},
   "source": [
    "### Regression with Random Forests\n",
    "\n",
    "So far we have looked at various types of linear models including some with caveats. Next we'll explore the performance of a non-linear model - Random Forests."
   ]
  },
  {
   "cell_type": "code",
   "execution_count": null,
   "metadata": {},
   "outputs": [],
   "source": [
    "RandomForestRegressor"
   ]
  },
  {
   "cell_type": "markdown",
   "metadata": {},
   "source": [
    "# Future work: TBD\n",
    "\n",
    "- elasticnet\n",
    "- gradient boosting\n",
    "- neural net\n",
    "- figure out how to hide cells which contain calculations in the text, and cannot be run via Markdown"
   ]
  }
 ],
 "metadata": {
  "kernelspec": {
   "display_name": "Python 3",
   "language": "python",
   "name": "python3"
  },
  "language_info": {
   "codemirror_mode": {
    "name": "ipython",
    "version": 3
   },
   "file_extension": ".py",
   "mimetype": "text/x-python",
   "name": "python",
   "nbconvert_exporter": "python",
   "pygments_lexer": "ipython3",
   "version": "3.7.3"
  }
 },
 "nbformat": 4,
 "nbformat_minor": 2
}
